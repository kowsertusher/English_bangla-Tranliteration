{
 "cells": [
  {
   "cell_type": "code",
   "execution_count": 1,
   "metadata": {},
   "outputs": [],
   "source": [
    "import os\n",
    "import string\n",
    "import re\n",
    "import numpy as np"
   ]
  },
  {
   "cell_type": "code",
   "execution_count": 2,
   "metadata": {},
   "outputs": [],
   "source": [
    "def load_doc(filename):\n",
    "  # open the file as read only\n",
    "  file = open(filename, mode= \"r\" , encoding=\"utf-8-sig\" )\n",
    "  # read all text\n",
    "  text = file.read()\n",
    "  # close the file\n",
    "  file.close()\n",
    "  return text"
   ]
  },
  {
   "cell_type": "code",
   "execution_count": 3,
   "metadata": {},
   "outputs": [],
   "source": [
    "def isEnglishSentence(sentence):\n",
    "    \n",
    "    if len(sentence) == 0:\n",
    "        return False\n",
    "    \n",
    "    numberOfEnglishChars = 0\n",
    "\n",
    "    for c in sentence:\n",
    "        isEnglishLetter = re.match(r'[a-zA-Z0-9]', c)\n",
    "        if (isEnglishLetter is None) == False:\n",
    "            numberOfEnglishChars += 1\n",
    "    \n",
    "    if numberOfEnglishChars == 0:\n",
    "        return False\n",
    "    \n",
    "    #print((numberOfEnglishChars/len(sentence)*100))\n",
    "    if ((numberOfEnglishChars/len(sentence)*100) > 50):\n",
    "        return True\n",
    "    \n",
    "    return False"
   ]
  },
  {
   "cell_type": "code",
   "execution_count": 4,
   "metadata": {},
   "outputs": [],
   "source": [
    "#I don't know how to detect this.\n",
    "def isBanglaSentence(sentence):\n",
    "    \n",
    "    \n",
    "    if isEnglishSentence(sentence) == False:\n",
    "        numberOfChar = 0\n",
    "        \n",
    "        for c in sentence:\n",
    "            if c.isalpha():\n",
    "                numberOfChar += 1\n",
    "        \n",
    "        if numberOfChar == 0:\n",
    "            return False\n",
    "        \n",
    "        if (len(sentence)/numberOfChar)*100 > 10:\n",
    "            return True\n",
    "    else:\n",
    "        return False"
   ]
  },
  {
   "cell_type": "code",
   "execution_count": 5,
   "metadata": {},
   "outputs": [],
   "source": [
    "def getEnglishAndBanglaSentences(splittedLines):\n",
    "    #prepare english and bangla sentences\n",
    "    english_sentence_list = []\n",
    "    bangla_sentence_list = []\n",
    "    \n",
    "    eng_sentence = \"\"\n",
    "    bng_sentence = \"\"\n",
    "    \n",
    "    for line in splittedLines:\n",
    "        if isEnglishSentence(line):\n",
    "            eng_sentence = line\n",
    "        elif isBanglaSentence(line):\n",
    "            bng_sentence = line\n",
    "            \n",
    "        if len(eng_sentence) > 0 and len(bng_sentence) > 0:\n",
    "            english_sentence_list.append(eng_sentence)\n",
    "            bangla_sentence_list.append(bng_sentence)\n",
    "            eng_sentence = \"\"\n",
    "            bng_sentence = \"\"\n",
    "    \n",
    "    return english_sentence_list, bangla_sentence_list"
   ]
  },
  {
   "cell_type": "code",
   "execution_count": 6,
   "metadata": {},
   "outputs": [],
   "source": [
    "# Get english and bangla sentences first\n",
    "text = load_doc(\"./Dataset/chat-1.txt\")\n",
    "splittedLines = text.splitlines()\n",
    "\n",
    "eng_s, ban_s = getEnglishAndBanglaSentences(splittedLines=splittedLines)"
   ]
  },
  {
   "cell_type": "code",
   "execution_count": 7,
   "metadata": {},
   "outputs": [],
   "source": [
    "#Get English and Bangla word list from a docname\n",
    "def getEnglishAndBanglaWordList(docname):\n",
    "    text = load_doc(docname)\n",
    "    \n",
    "    splittedLines = text.splitlines()\n",
    "    lengthOfSplittedLines = len(splittedLines)\n",
    "    eng_sentence, bng_sentence = getEnglishAndBanglaSentences(splittedLines=splittedLines)\n",
    "    \n",
    "#    print(eng_sentence, bng_sentence)\n",
    "    if (len(eng_sentence) == len(bng_sentence)) == False:\n",
    "        print(\"This is a case that should not occur\")\n",
    "    \n",
    "    engWords = []\n",
    "    bngWords = []\n",
    "    \n",
    "#     print(eng_sentence)\n",
    "    \n",
    "    for i in range(0, len(eng_sentence)):\n",
    "#         print(i, eng_sentence[i], bng_sentence[i])\n",
    "        ew = eng_sentence[i].split(\";\")\n",
    "        bw = bng_sentence[i].split(\";\")\n",
    "        \n",
    "        if (len(ew) != len(bw)):\n",
    "            print(\"English - %s, bangla - %s, Count %d %d\" % (ew, bw, len(ew), len(bw)))\n",
    "        engWords.extend(ew)\n",
    "        bngWords.extend(bw)\n",
    "        \n",
    "    return engWords, bngWords"
   ]
  },
  {
   "cell_type": "code",
   "execution_count": 8,
   "metadata": {},
   "outputs": [],
   "source": [
    "ewlist, bwlist = getEnglishAndBanglaWordList(\"./Dataset/\" + \"chat-15.txt\")"
   ]
  },
  {
   "cell_type": "code",
   "execution_count": 9,
   "metadata": {},
   "outputs": [
    {
     "name": "stdout",
     "output_type": "stream",
     "text": [
      "22081\n",
      "22081\n"
     ]
    }
   ],
   "source": [
    "dataset_names = os.listdir(\"./Dataset\")\n",
    "\n",
    "english_word_list = []\n",
    "bangla_word_list = []\n",
    "\n",
    "for name in dataset_names:\n",
    "    \n",
    "    if (name.find(\".txt\") != -1):\n",
    "        ewlist, bwlist = getEnglishAndBanglaWordList(\"./Dataset/\" + name)\n",
    "        english_word_list.extend(ewlist)\n",
    "        bangla_word_list.extend(bwlist)\n",
    "        \n",
    "print(len(english_word_list))\n",
    "print(len(bangla_word_list))"
   ]
  },
  {
   "cell_type": "code",
   "execution_count": 10,
   "metadata": {},
   "outputs": [
    {
     "name": "stdout",
     "output_type": "stream",
     "text": [
      "bidyalaya বিদ্যালয়\n",
      "oi ওই\n",
      "jekono যে\n",
      "osudi ওষুধই\n",
      "pode পদে\n"
     ]
    }
   ],
   "source": [
    "#Verify if the indexing is alright\n",
    "print(english_word_list[40], bangla_word_list[40])\n",
    "print(english_word_list[505], bangla_word_list[505])\n",
    "print(english_word_list[5225], bangla_word_list[5225])\n",
    "print(english_word_list[15000], bangla_word_list[15000])\n",
    "print(english_word_list[22077], bangla_word_list[22077])"
   ]
  },
  {
   "cell_type": "code",
   "execution_count": 11,
   "metadata": {},
   "outputs": [],
   "source": [
    "#CLEAN THE DATA\n",
    "def cleanWord(word, isBangla):\n",
    "    cleaned = \"\"\n",
    "    for c in word:\n",
    "        if c == '\\ufeff' or c == '\\u200c':\n",
    "            continue\n",
    "        if isBangla and not(re.match(r'[a-zA-Z৷।]', c) == None):\n",
    "            continue\n",
    "        if(re.match(r'[’‘“\\'\\\":\\-!@#$%^&?*\\_/+,.\"(\"\")\"\\\\–” ]', c) == None):\n",
    "            cleaned += c\n",
    "            \n",
    "    return cleaned\n",
    "    \n",
    "def shouldIncludeWord(word):\n",
    "    if len(word) > 0:\n",
    "        return True\n",
    "    return False"
   ]
  },
  {
   "cell_type": "code",
   "execution_count": 12,
   "metadata": {},
   "outputs": [],
   "source": [
    "def clean_word_list(current_ew_word_list, current_bw_word_list):\n",
    "    cleaned_english_word_list = []\n",
    "    cleaned_bangla_word_list = []\n",
    "    encountered_words = {}\n",
    "\n",
    "    for ew, bw in zip(current_ew_word_list, current_bw_word_list):\n",
    "        if encountered_words.get(ew) == None:\n",
    "            encountered_words[ew] = True\n",
    "        else:\n",
    "            continue\n",
    "\n",
    "        if shouldIncludeWord(ew):\n",
    "            cleaned_ew = cleanWord(ew, False).lower()\n",
    "            cleaned_bw = cleanWord(bw, True)\n",
    "\n",
    "            cleaned_english_word_list.append(cleaned_ew)\n",
    "            cleaned_bangla_word_list.append(cleaned_bw)\n",
    "    \n",
    "    return cleaned_english_word_list, cleaned_bangla_word_list"
   ]
  },
  {
   "cell_type": "code",
   "execution_count": 13,
   "metadata": {},
   "outputs": [],
   "source": [
    "cleaned_english_words, cleaned_bangla_words = clean_word_list(english_word_list, bangla_word_list)"
   ]
  },
  {
   "cell_type": "code",
   "execution_count": 14,
   "metadata": {},
   "outputs": [],
   "source": [
    "all_characters_set = set([])\n",
    "\n",
    "for ew, bw in zip(cleaned_english_words, cleaned_bangla_words):\n",
    "    \n",
    "    ec_array = list(ew)\n",
    "    _ = [all_characters_set.add(c) for c in ec_array]\n",
    "    \n",
    "    bc_array = list(bw)\n",
    "    _ = [all_characters_set.add(c) for c in bc_array]\n",
    "    \n",
    "all_characters_set.add('')"
   ]
  },
  {
   "cell_type": "code",
   "execution_count": 15,
   "metadata": {},
   "outputs": [],
   "source": [
    "#Character encoding\n",
    "\n",
    "chars_i_to_c = dict((i, c) for i, c in enumerate(all_characters_set))\n",
    "chars_c_to_i = dict((c, i) for i, c in enumerate(all_characters_set))"
   ]
  },
  {
   "cell_type": "code",
   "execution_count": 16,
   "metadata": {},
   "outputs": [],
   "source": [
    "def getMaxWordLength(wordArray):\n",
    "    maxLen = 0\n",
    "    for w in wordArray:\n",
    "        if len(w) > maxLen:\n",
    "            maxLen = len(w)\n",
    "\n",
    "    return maxLen"
   ]
  },
  {
   "cell_type": "code",
   "execution_count": 17,
   "metadata": {},
   "outputs": [],
   "source": [
    "maxBanglaWordLength = getMaxWordLength(cleaned_bangla_words)\n",
    "maxEnglishWordLength = getMaxWordLength(cleaned_english_words)"
   ]
  },
  {
   "cell_type": "code",
   "execution_count": 18,
   "metadata": {},
   "outputs": [],
   "source": [
    "def getVectorizedWord(word, encoder, maxLength):\n",
    "    vectorized_word = []\n",
    "    \n",
    "    for c in word:\n",
    "        cv = encoder[c]\n",
    "        vectorized_word.append(cv)\n",
    "        \n",
    "    #Add Padding\n",
    "    vectorized_word.extend([encoder['']] * (maxLength - len(word)))\n",
    "    \n",
    "    return vectorized_word"
   ]
  },
  {
   "cell_type": "code",
   "execution_count": 19,
   "metadata": {},
   "outputs": [],
   "source": [
    "def reverseVectorization(vectorized_word, decoder):\n",
    "    mainWord = \"\"\n",
    "    \n",
    "    for i in vectorized_word:\n",
    "        mainWord += decoder[i]\n",
    "        \n",
    "    return mainWord"
   ]
  },
  {
   "cell_type": "code",
   "execution_count": 20,
   "metadata": {},
   "outputs": [
    {
     "name": "stderr",
     "output_type": "stream",
     "text": [
      "/anaconda3/lib/python3.6/site-packages/h5py/__init__.py:36: FutureWarning: Conversion of the second argument of issubdtype from `float` to `np.floating` is deprecated. In future, it will be treated as `np.float64 == np.dtype(float).type`.\n",
      "  from ._conv import register_converters as _register_converters\n",
      "Using TensorFlow backend.\n"
     ]
    }
   ],
   "source": [
    "from keras.utils.np_utils import to_categorical\n",
    "\n",
    "def convert_vector_to_one_hot_encoded_array(vector, total_classes):\n",
    "    one_hot_encoded_vector = to_categorical(vector, num_classes=total_classes)\n",
    "    return one_hot_encoded_vector\n",
    "    \n",
    "def convert_one_hot_encoded_to_vector(one_hot_encoded):\n",
    "    vectorized = []\n",
    "    \n",
    "    for one_hot_array in one_hot_encoded:\n",
    "        vectorized.append(np.argmax(one_hot_array))\n",
    "    \n",
    "    return vectorized"
   ]
  },
  {
   "cell_type": "code",
   "execution_count": 21,
   "metadata": {},
   "outputs": [],
   "source": [
    "def wordToOneHotEncode(word, encoder, vector_max_length, total_one_hot_classes):\n",
    "    vectorRepresentation = getVectorizedWord(word, encoder, vector_max_length)\n",
    "    one_hot_encoded = convert_vector_to_one_hot_encoded_array(vectorRepresentation, total_one_hot_classes)\n",
    "    return one_hot_encoded\n",
    "\n",
    "def oneHotEncodeToWord(one_hot, decoder):\n",
    "    vectorRepresentation = convert_one_hot_encoded_to_vector(one_hot)\n",
    "    word = reverseVectorization(vectorRepresentation, decoder)\n",
    "    return word"
   ]
  },
  {
   "cell_type": "code",
   "execution_count": 22,
   "metadata": {},
   "outputs": [],
   "source": [
    "banglish_word_train_set = []\n",
    "bangla_word_result_set = []\n",
    "banglish_word_max_length = 22\n",
    "bangla_word_max_length = 21\n",
    "total_one_hot_classes = 98\n",
    "\n",
    "for ew in cleaned_english_words:\n",
    "    banglish_word_train_set.append(wordToOneHotEncode(ew, chars_c_to_i, banglish_word_max_length, total_one_hot_classes))\n",
    "\n",
    "for bw in cleaned_bangla_words:\n",
    "    bangla_word_result_set.append(wordToOneHotEncode(bw, chars_c_to_i, bangla_word_max_length, total_one_hot_classes))\n",
    "    "
   ]
  },
  {
   "cell_type": "code",
   "execution_count": 23,
   "metadata": {},
   "outputs": [],
   "source": [
    "banglish_word_train_set = np.asarray(banglish_word_train_set)\n",
    "bangla_word_result_set = np.asarray(bangla_word_result_set)"
   ]
  },
  {
   "cell_type": "code",
   "execution_count": 24,
   "metadata": {},
   "outputs": [],
   "source": [
    "#TRAIN TEST SPLIT\n",
    "from sklearn.model_selection import train_test_split\n",
    "\n",
    "train_x, test_x, train_y, test_y = train_test_split(banglish_word_train_set, bangla_word_result_set, test_size=0.20, random_state=42)"
   ]
  },
  {
   "cell_type": "code",
   "execution_count": 25,
   "metadata": {},
   "outputs": [
    {
     "name": "stdout",
     "output_type": "stream",
     "text": [
      "eta এটা\n",
      "bhot ভোটে\n",
      "sankha সংখ্যা\n",
      "sob সব\n"
     ]
    }
   ],
   "source": [
    "print(oneHotEncodeToWord(train_x[0], chars_i_to_c), oneHotEncodeToWord(train_y[0], chars_i_to_c))\n",
    "print(oneHotEncodeToWord(train_x[95], chars_i_to_c), oneHotEncodeToWord(train_y[95], chars_i_to_c))\n",
    "print(oneHotEncodeToWord(train_x[1500], chars_i_to_c), oneHotEncodeToWord(train_y[1500], chars_i_to_c))\n",
    "print(oneHotEncodeToWord(train_x[3871], chars_i_to_c), oneHotEncodeToWord(train_y[3871], chars_i_to_c))"
   ]
  },
  {
   "cell_type": "code",
   "execution_count": 26,
   "metadata": {},
   "outputs": [],
   "source": [
    "def getWordForVector(one_hot):\n",
    "    for r in one_hot:\n",
    "        vs = np.argmax(r, axis=1)\n",
    "        rv = reverseVectorization(vs, chars_i_to_c)\n",
    "    return rv"
   ]
  },
  {
   "cell_type": "code",
   "execution_count": 27,
   "metadata": {},
   "outputs": [],
   "source": [
    "def getResultForOneWord(model, one_hot):\n",
    "    results = model.predict(one_hot, batch_size=32)\n",
    "    for r in results:\n",
    "        vs = np.argmax(r, axis=1)\n",
    "        rv = reverseVectorization(vs, chars_i_to_c)\n",
    "    return rv"
   ]
  },
  {
   "cell_type": "code",
   "execution_count": 28,
   "metadata": {},
   "outputs": [],
   "source": [
    "import statistics as s\n",
    "import tensorflow as tf\n",
    "\n",
    "class LossHistory(tf.keras.callbacks.Callback):\n",
    "    \n",
    "    def __init__(self, train_x, train_y, test_x, test_y):\n",
    "        self.epoch_count = 0\n",
    "        self.train_acc = []\n",
    "        self.train_loss = []\n",
    "        self.validation_acc = []\n",
    "        self.validation_loss = []\n",
    "        #self.filename = filename\n",
    "        self.train_x = train_x\n",
    "        self.train_y = train_y\n",
    "        self.test_x = test_x\n",
    "        self.test_y = test_y\n",
    "        #self.f = open(filename,\"w+\")\n",
    "    \n",
    "    def computeResultForTwoWords(self, wTrue, wPred):\n",
    "        totalMatch = 0\n",
    "        for i in range(0,len(wTrue)):\n",
    "            if i < len(wPred):\n",
    "                if wTrue[i] == wPred[i]:\n",
    "                    totalMatch += 1\n",
    "        \n",
    "        if len(wTrue) == 0:\n",
    "            return 0\n",
    "        \n",
    "        return totalMatch/len(wTrue)\n",
    "    \n",
    "    def summaryOfValidationData(self):\n",
    "        x_val, y_val = self.validation_data[0], self.validation_data[1]\n",
    "        self.evaluateModel(self.model, x_val, y_val, shouldPrint=True)\n",
    "        \n",
    "    def evaluateModel(self, model, x_val, y_val, shouldPrint=False):\n",
    "        allResults = []\n",
    "        for i in range(0, x_val.shape[0]):\n",
    "            wPred = getResultForOneWord(model, x_val[i:i+1])\n",
    "            wTrue = getWordForVector(y_val[i:i+1])\n",
    "            \n",
    "            if shouldPrint:\n",
    "                print(getWordForVector(x_val[i:i+1]), wPred, wTrue)\n",
    "            \n",
    "            result = self.computeResultForTwoWords(wTrue, wPred)\n",
    "            \n",
    "            allResults.append(result)\n",
    "            \n",
    "        return s.mean(allResults)\n",
    "\n",
    "    def on_epoch_end(self, batch, logs={}):\n",
    "        \n",
    "        train_result = self.evaluateModel(self.model, self.train_x, self.train_y)\n",
    "        test_result = self.evaluateModel(self.model, self.test_x, self.test_y)\n",
    "        \n",
    "        #train_acc = logs.get('acc')\n",
    "        train_loss = logs.get('loss')\n",
    "        #val_acc = logs.get('val_acc')\n",
    "        val_loss = logs.get('val_loss')\n",
    "        \n",
    "        #self.train_acc.append(train_acc)\n",
    "        self.train_loss.append(train_loss)\n",
    "        #self.validation_acc.append(val_acc)\n",
    "        self.validation_loss.append(val_loss)\n",
    "        \n",
    "        self.epoch_count += 1\n",
    "        #self.f.write(\"%.2f %.2f %.2f %.2f\\n \" % (train_acc, train_loss, val_acc, val_loss))\n",
    "        print(\"Epoch %d [Train Result] - Acc %.3f, Loss %.3f, [Validation Result] - Acc %.3f, Loss %.3f\" % (self.epoch_count, train_result, train_loss, test_result, val_loss))\n"
   ]
  },
  {
   "cell_type": "code",
   "execution_count": 29,
   "metadata": {},
   "outputs": [],
   "source": [
    "#Bidirectional LSTM(CPU)\n",
    "from tensorflow.keras.models import *\n",
    "from tensorflow.keras.layers import *\n",
    "from tensorflow.keras import regularizers\n",
    "\n",
    "\n",
    "def createTestBidirectionalModelCPU(summary):\n",
    "    model = Sequential()\n",
    "    model.add(Bidirectional(LSTM(256), input_shape=(banglish_word_max_length, total_one_hot_classes)))\n",
    "    model.add(RepeatVector(bangla_word_max_length))\n",
    "    model.add(Dropout(0.5))\n",
    "    model.add(Bidirectional(LSTM(256, return_sequences=True)))\n",
    "    model.add(Dropout(0.5))\n",
    "#     model.add(TimeDistributed(Reshape((-1, 256))))\n",
    "#     model.add(TimeDistributed(Reshape((-1, 512))))\n",
    "    model.add(TimeDistributed(Dense((512))))\n",
    "    model.add(TimeDistributed(Dense((256))))\n",
    "    model.add(TimeDistributed(Dense((128))))\n",
    "    model.add(TimeDistributed(Dense(total_one_hot_classes, activation= 'softmax')))\n",
    "    model.compile(loss= 'kullback_leibler_divergence' , optimizer= 'adam')\n",
    "\n",
    "    if(summary):\n",
    "        print(model.summary())\n",
    "    \n",
    "    return model"
   ]
  },
  {
   "cell_type": "code",
   "execution_count": 30,
   "metadata": {},
   "outputs": [
    {
     "name": "stdout",
     "output_type": "stream",
     "text": [
      "_________________________________________________________________\n",
      "Layer (type)                 Output Shape              Param #   \n",
      "=================================================================\n",
      "bidirectional (Bidirectional (None, 512)               727040    \n",
      "_________________________________________________________________\n",
      "repeat_vector (RepeatVector) (None, 21, 512)           0         \n",
      "_________________________________________________________________\n",
      "dropout (Dropout)            (None, 21, 512)           0         \n",
      "_________________________________________________________________\n",
      "bidirectional_1 (Bidirection (None, 21, 512)           1574912   \n",
      "_________________________________________________________________\n",
      "dropout_1 (Dropout)          (None, 21, 512)           0         \n",
      "_________________________________________________________________\n",
      "time_distributed (TimeDistri (None, 21, 512)           262656    \n",
      "_________________________________________________________________\n",
      "time_distributed_1 (TimeDist (None, 21, 256)           131328    \n",
      "_________________________________________________________________\n",
      "time_distributed_2 (TimeDist (None, 21, 128)           32896     \n",
      "_________________________________________________________________\n",
      "time_distributed_3 (TimeDist (None, 21, 98)            12642     \n",
      "=================================================================\n",
      "Total params: 2,741,474\n",
      "Trainable params: 2,741,474\n",
      "Non-trainable params: 0\n",
      "_________________________________________________________________\n",
      "None\n",
      "Epoch 1 [Train Result] - Acc 0.076, Loss 1.400, [Validation Result] - Acc 0.075, Loss 1.076\n",
      "Epoch 2 [Train Result] - Acc 0.151, Loss 1.049, [Validation Result] - Acc 0.151, Loss 1.004\n"
     ]
    },
    {
     "data": {
      "text/plain": [
       "<tensorflow.python.keras.callbacks.History at 0x1a379bd2b0>"
      ]
     },
     "execution_count": 30,
     "metadata": {},
     "output_type": "execute_result"
    }
   ],
   "source": [
    "cpuModel = createTestBidirectionalModelCPU(summary = True)\n",
    "        \n",
    "history = LossHistory(train_x, train_y, test_x, test_y)\n",
    "\n",
    "#Should get about 74% validation accuracy. Can take about 4-5 hours depending on CPU\n",
    "cpuModel.fit(train_x, train_y, validation_data=(test_x, test_y), epochs=100, batch_size=64, callbacks=[history], verbose = 0)"
   ]
  },
  {
   "cell_type": "code",
   "execution_count": 61,
   "metadata": {},
   "outputs": [],
   "source": [
    "#from tensorflow.keras.models import load_model"
   ]
  },
  {
   "cell_type": "code",
   "execution_count": 62,
   "metadata": {},
   "outputs": [],
   "source": [
    "# import tensorflow as tf\n",
    "\n",
    "# keras_file = \"bdmodel1.h5\"\n",
    "\n",
    "# tf.keras.models.save_model(cpuModel, keras_file)"
   ]
  },
  {
   "cell_type": "code",
   "execution_count": 63,
   "metadata": {},
   "outputs": [
    {
     "name": "stdout",
     "output_type": "stream",
     "text": [
      "INFO:tensorflow:Froze 8 variables.\n",
      "INFO:tensorflow:Converted 8 variables to const ops.\n"
     ]
    },
    {
     "ename": "RuntimeError",
     "evalue": "TOCO failed see console for info.\nb'2019-01-09 16:00:45.487000: I tensorflow/contrib/lite/toco/import_tensorflow.cc:1080] Converting unsupported operation: TensorArrayV3\\n2019-01-09 16:00:45.487416: I tensorflow/contrib/lite/toco/import_tensorflow.cc:1127] Op node missing output type attribute: gru/TensorArray\\n2019-01-09 16:00:45.487439: I tensorflow/contrib/lite/toco/import_tensorflow.cc:1080] Converting unsupported operation: TensorArrayV3\\n2019-01-09 16:00:45.487458: I tensorflow/contrib/lite/toco/import_tensorflow.cc:1127] Op node missing output type attribute: gru/TensorArray_1\\n2019-01-09 16:00:45.487528: I tensorflow/contrib/lite/toco/import_tensorflow.cc:1080] Converting unsupported operation: TensorArrayScatterV3\\n2019-01-09 16:00:45.487545: I tensorflow/contrib/lite/toco/import_tensorflow.cc:1127] Op node missing output type attribute: gru/TensorArrayUnstack/TensorArrayScatter/TensorArrayScatterV3\\n2019-01-09 16:00:45.487567: I tensorflow/contrib/lite/toco/import_tensorflow.cc:1080] Converting unsupported operation: Enter\\n2019-01-09 16:00:45.487591: I tensorflow/contrib/lite/toco/import_tensorflow.cc:1080] Converting unsupported operation: Enter\\n2019-01-09 16:00:45.487611: I tensorflow/contrib/lite/toco/import_tensorflow.cc:1080] Converting unsupported operation: Enter\\n2019-01-09 16:00:45.487630: I tensorflow/contrib/lite/toco/import_tensorflow.cc:1080] Converting unsupported operation: Enter\\n2019-01-09 16:00:45.487909: I tensorflow/contrib/lite/toco/import_tensorflow.cc:1080] Converting unsupported operation: Enter\\n2019-01-09 16:00:45.487943: I tensorflow/contrib/lite/toco/import_tensorflow.cc:1080] Converting unsupported operation: Enter\\n2019-01-09 16:00:45.487969: I tensorflow/contrib/lite/toco/import_tensorflow.cc:1080] Converting unsupported operation: LoopCond\\n2019-01-09 16:00:45.487979: I tensorflow/contrib/lite/toco/import_tensorflow.cc:1127] Op node missing output type attribute: gru/while/LoopCond\\n2019-01-09 16:00:45.488028: I tensorflow/contrib/lite/toco/import_tensorflow.cc:1080] Converting unsupported operation: TensorArrayReadV3\\n2019-01-09 16:00:45.488045: I tensorflow/contrib/lite/toco/import_tensorflow.cc:1080] Converting unsupported operation: Enter\\n2019-01-09 16:00:45.488059: I tensorflow/contrib/lite/toco/import_tensorflow.cc:189] Unsupported data type in placeholder op: 20\\n2019-01-09 16:00:45.488076: I tensorflow/contrib/lite/toco/import_tensorflow.cc:1080] Converting unsupported operation: Enter\\n2019-01-09 16:00:45.488092: I tensorflow/contrib/lite/toco/import_tensorflow.cc:1080] Converting unsupported operation: ReadVariableOp\\n2019-01-09 16:00:45.488106: I tensorflow/contrib/lite/toco/import_tensorflow.cc:1080] Converting unsupported operation: Enter\\n2019-01-09 16:00:45.488118: I tensorflow/contrib/lite/toco/import_tensorflow.cc:189] Unsupported data type in placeholder op: 20\\n2019-01-09 16:00:45.488165: I tensorflow/contrib/lite/toco/import_tensorflow.cc:1080] Converting unsupported operation: ReadVariableOp\\n2019-01-09 16:00:45.488213: I tensorflow/contrib/lite/toco/import_tensorflow.cc:1080] Converting unsupported operation: ReadVariableOp\\n2019-01-09 16:00:45.488256: I tensorflow/contrib/lite/toco/import_tensorflow.cc:1080] Converting unsupported operation: ReadVariableOp\\n2019-01-09 16:00:45.488270: I tensorflow/contrib/lite/toco/import_tensorflow.cc:1080] Converting unsupported operation: Enter\\n2019-01-09 16:00:45.488282: I tensorflow/contrib/lite/toco/import_tensorflow.cc:189] Unsupported data type in placeholder op: 20\\n2019-01-09 16:00:45.488325: I tensorflow/contrib/lite/toco/import_tensorflow.cc:1080] Converting unsupported operation: ReadVariableOp\\n2019-01-09 16:00:45.488364: I tensorflow/contrib/lite/toco/import_tensorflow.cc:1080] Converting unsupported operation: ReadVariableOp\\n2019-01-09 16:00:45.488407: I tensorflow/contrib/lite/toco/import_tensorflow.cc:1080] Converting unsupported operation: ReadVariableOp\\n2019-01-09 16:00:45.488422: I tensorflow/contrib/lite/toco/import_tensorflow.cc:1080] Converting unsupported operation: Enter\\n2019-01-09 16:00:45.488434: I tensorflow/contrib/lite/toco/import_tensorflow.cc:189] Unsupported data type in placeholder op: 20\\n2019-01-09 16:00:45.488472: I tensorflow/contrib/lite/toco/import_tensorflow.cc:1080] Converting unsupported operation: ReadVariableOp\\n2019-01-09 16:00:45.488575: I tensorflow/contrib/lite/toco/import_tensorflow.cc:1080] Converting unsupported operation: ReadVariableOp\\n2019-01-09 16:00:45.488640: I tensorflow/contrib/lite/toco/import_tensorflow.cc:1080] Converting unsupported operation: TensorArrayWriteV3\\n2019-01-09 16:00:45.488653: I tensorflow/contrib/lite/toco/import_tensorflow.cc:1127] Op node missing output type attribute: gru/while/TensorArrayWrite/TensorArrayWriteV3\\n2019-01-09 16:00:45.488667: I tensorflow/contrib/lite/toco/import_tensorflow.cc:1080] Converting unsupported operation: Enter\\n2019-01-09 16:00:45.488679: I tensorflow/contrib/lite/toco/import_tensorflow.cc:189] Unsupported data type in placeholder op: 20\\n2019-01-09 16:00:45.488709: I tensorflow/contrib/lite/toco/import_tensorflow.cc:1080] Converting unsupported operation: Exit\\n2019-01-09 16:00:45.488722: I tensorflow/contrib/lite/toco/import_tensorflow.cc:1080] Converting unsupported operation: Exit\\n2019-01-09 16:00:45.488740: I tensorflow/contrib/lite/toco/import_tensorflow.cc:1080] Converting unsupported operation: TensorArrayReadV3\\n2019-01-09 16:00:45.490391: I tensorflow/contrib/lite/toco/import_tensorflow.cc:1080] Converting unsupported operation: TensorArrayV3\\n2019-01-09 16:00:45.490413: I tensorflow/contrib/lite/toco/import_tensorflow.cc:1127] Op node missing output type attribute: gru_1/TensorArray\\n2019-01-09 16:00:45.490426: I tensorflow/contrib/lite/toco/import_tensorflow.cc:1080] Converting unsupported operation: TensorArrayV3\\n2019-01-09 16:00:45.490436: I tensorflow/contrib/lite/toco/import_tensorflow.cc:1127] Op node missing output type attribute: gru_1/TensorArray_1\\n2019-01-09 16:00:45.490482: I tensorflow/contrib/lite/toco/import_tensorflow.cc:1080] Converting unsupported operation: TensorArrayScatterV3\\n2019-01-09 16:00:45.490493: I tensorflow/contrib/lite/toco/import_tensorflow.cc:1127] Op node missing output type attribute: gru_1/TensorArrayUnstack/TensorArrayScatter/TensorArrayScatterV3\\n2019-01-09 16:00:45.490513: I tensorflow/contrib/lite/toco/import_tensorflow.cc:1080] Converting unsupported operation: Enter\\n2019-01-09 16:00:45.490525: I tensorflow/contrib/lite/toco/import_tensorflow.cc:1080] Converting unsupported operation: Enter\\n2019-01-09 16:00:45.490538: I tensorflow/contrib/lite/toco/import_tensorflow.cc:1080] Converting unsupported operation: Enter\\n2019-01-09 16:00:45.490550: I tensorflow/contrib/lite/toco/import_tensorflow.cc:1080] Converting unsupported operation: Enter\\n2019-01-09 16:00:45.490575: I tensorflow/contrib/lite/toco/import_tensorflow.cc:1080] Converting unsupported operation: Enter\\n2019-01-09 16:00:45.490589: I tensorflow/contrib/lite/toco/import_tensorflow.cc:1080] Converting unsupported operation: Enter\\n2019-01-09 16:00:45.490602: I tensorflow/contrib/lite/toco/import_tensorflow.cc:1080] Converting unsupported operation: LoopCond\\n2019-01-09 16:00:45.490609: I tensorflow/contrib/lite/toco/import_tensorflow.cc:1127] Op node missing output type attribute: gru_1/while/LoopCond\\n2019-01-09 16:00:45.490648: I tensorflow/contrib/lite/toco/import_tensorflow.cc:1080] Converting unsupported operation: TensorArrayReadV3\\n2019-01-09 16:00:45.490661: I tensorflow/contrib/lite/toco/import_tensorflow.cc:1080] Converting unsupported operation: Enter\\n2019-01-09 16:00:45.490669: I tensorflow/contrib/lite/toco/import_tensorflow.cc:189] Unsupported data type in placeholder op: 20\\n2019-01-09 16:00:45.490678: I tensorflow/contrib/lite/toco/import_tensorflow.cc:1080] Converting unsupported operation: Enter\\n2019-01-09 16:00:45.490690: I tensorflow/contrib/lite/toco/import_tensorflow.cc:1080] Converting unsupported operation: ReadVariableOp\\n2019-01-09 16:00:45.490702: I tensorflow/contrib/lite/toco/import_tensorflow.cc:1080] Converting unsupported operation: Enter\\n2019-01-09 16:00:45.490710: I tensorflow/contrib/lite/toco/import_tensorflow.cc:189] Unsupported data type in placeholder op: 20\\n2019-01-09 16:00:45.490746: I tensorflow/contrib/lite/toco/import_tensorflow.cc:1080] Converting unsupported operation: ReadVariableOp\\n2019-01-09 16:00:45.490784: I tensorflow/contrib/lite/toco/import_tensorflow.cc:1080] Converting unsupported operation: ReadVariableOp\\n2019-01-09 16:00:45.490822: I tensorflow/contrib/lite/toco/import_tensorflow.cc:1080] Converting unsupported operation: ReadVariableOp\\n2019-01-09 16:00:45.490832: I tensorflow/contrib/lite/toco/import_tensorflow.cc:1080] Converting unsupported operation: Enter\\n2019-01-09 16:00:45.490840: I tensorflow/contrib/lite/toco/import_tensorflow.cc:189] Unsupported data type in placeholder op: 20\\n2019-01-09 16:00:45.490875: I tensorflow/contrib/lite/toco/import_tensorflow.cc:1080] Converting unsupported operation: ReadVariableOp\\n2019-01-09 16:00:45.490914: I tensorflow/contrib/lite/toco/import_tensorflow.cc:1080] Converting unsupported operation: ReadVariableOp\\n2019-01-09 16:00:45.490949: I tensorflow/contrib/lite/toco/import_tensorflow.cc:1080] Converting unsupported operation: ReadVariableOp\\n2019-01-09 16:00:45.490960: I tensorflow/contrib/lite/toco/import_tensorflow.cc:1080] Converting unsupported operation: Enter\\n2019-01-09 16:00:45.490968: I tensorflow/contrib/lite/toco/import_tensorflow.cc:189] Unsupported data type in placeholder op: 20\\n2019-01-09 16:00:45.491002: I tensorflow/contrib/lite/toco/import_tensorflow.cc:1080] Converting unsupported operation: ReadVariableOp\\n2019-01-09 16:00:45.491088: I tensorflow/contrib/lite/toco/import_tensorflow.cc:1080] Converting unsupported operation: ReadVariableOp\\n2019-01-09 16:00:45.491143: I tensorflow/contrib/lite/toco/import_tensorflow.cc:1080] Converting unsupported operation: TensorArrayWriteV3\\n2019-01-09 16:00:45.491153: I tensorflow/contrib/lite/toco/import_tensorflow.cc:1127] Op node missing output type attribute: gru_1/while/TensorArrayWrite/TensorArrayWriteV3\\n2019-01-09 16:00:45.491163: I tensorflow/contrib/lite/toco/import_tensorflow.cc:1080] Converting unsupported operation: Enter\\n2019-01-09 16:00:45.491172: I tensorflow/contrib/lite/toco/import_tensorflow.cc:189] Unsupported data type in placeholder op: 20\\n2019-01-09 16:00:45.491196: I tensorflow/contrib/lite/toco/import_tensorflow.cc:1080] Converting unsupported operation: Exit\\n2019-01-09 16:00:45.491207: I tensorflow/contrib/lite/toco/import_tensorflow.cc:1080] Converting unsupported operation: TensorArraySizeV3\\n2019-01-09 16:00:45.491216: I tensorflow/contrib/lite/toco/import_tensorflow.cc:1127] Op node missing output type attribute: gru_1/TensorArrayStack/TensorArraySizeV3\\n2019-01-09 16:00:45.491240: I tensorflow/contrib/lite/toco/import_tensorflow.cc:1080] Converting unsupported operation: TensorArrayGatherV3\\n2019-01-09 16:00:45.496660: I tensorflow/contrib/lite/toco/graph_transformations/graph_transformations.cc:39] Before Removing unused ops: 196 operators, 343 arrays (0 quantized)\\n2019-01-09 16:00:45.500695: I tensorflow/contrib/lite/toco/graph_transformations/graph_transformations.cc:39] Before general graph transformations: 196 operators, 343 arrays (0 quantized)\\n2019-01-09 16:00:45.504493: I tensorflow/contrib/lite/toco/graph_transformations/graph_transformations.cc:39] After general graph transformations pass 1: 189 operators, 338 arrays (0 quantized)\\n2019-01-09 16:00:45.507552: I tensorflow/contrib/lite/toco/graph_transformations/graph_transformations.cc:39] After general graph transformations pass 2: 188 operators, 337 arrays (0 quantized)\\n2019-01-09 16:00:45.510149: I tensorflow/contrib/lite/toco/graph_transformations/graph_transformations.cc:39] After general graph transformations pass 3: 187 operators, 335 arrays (0 quantized)\\n2019-01-09 16:00:45.512738: I tensorflow/contrib/lite/toco/graph_transformations/graph_transformations.cc:39] Before dequantization graph transformations: 187 operators, 335 arrays (0 quantized)\\n2019-01-09 16:00:45.514622: F tensorflow/contrib/lite/toco/tooling_util.cc:618] Check failed: dim >= 1 (0 vs. 1)\\n'\nNone\n",
     "output_type": "error",
     "traceback": [
      "\u001b[0;31m---------------------------------------------------------------------------\u001b[0m",
      "\u001b[0;31mRuntimeError\u001b[0m                              Traceback (most recent call last)",
      "\u001b[0;32m<ipython-input-63-d0d8e4a4b643>\u001b[0m in \u001b[0;36m<module>\u001b[0;34m()\u001b[0m\n\u001b[1;32m      1\u001b[0m \u001b[0mconverter\u001b[0m \u001b[0;34m=\u001b[0m \u001b[0mtf\u001b[0m\u001b[0;34m.\u001b[0m\u001b[0mcontrib\u001b[0m\u001b[0;34m.\u001b[0m\u001b[0mlite\u001b[0m\u001b[0;34m.\u001b[0m\u001b[0mTFLiteConverter\u001b[0m\u001b[0;34m.\u001b[0m\u001b[0mfrom_keras_model_file\u001b[0m\u001b[0;34m(\u001b[0m\u001b[0mkeras_file\u001b[0m\u001b[0;34m)\u001b[0m\u001b[0;34m\u001b[0m\u001b[0m\n\u001b[0;32m----> 2\u001b[0;31m \u001b[0mtflite_model\u001b[0m \u001b[0;34m=\u001b[0m \u001b[0mconverter\u001b[0m\u001b[0;34m.\u001b[0m\u001b[0mconvert\u001b[0m\u001b[0;34m(\u001b[0m\u001b[0;34m)\u001b[0m\u001b[0;34m\u001b[0m\u001b[0m\n\u001b[0m\u001b[1;32m      3\u001b[0m \u001b[0mopen\u001b[0m\u001b[0;34m(\u001b[0m\u001b[0;34m\"bdmodel.tflite\"\u001b[0m\u001b[0;34m,\u001b[0m \u001b[0;34m\"wb\"\u001b[0m\u001b[0;34m)\u001b[0m\u001b[0;34m.\u001b[0m\u001b[0mwrite\u001b[0m\u001b[0;34m(\u001b[0m\u001b[0mtflite_model\u001b[0m\u001b[0;34m)\u001b[0m\u001b[0;34m\u001b[0m\u001b[0m\n",
      "\u001b[0;32m/anaconda3/lib/python3.6/site-packages/tensorflow/contrib/lite/python/lite.py\u001b[0m in \u001b[0;36mconvert\u001b[0;34m(self)\u001b[0m\n\u001b[1;32m    451\u001b[0m           \u001b[0minput_tensors\u001b[0m\u001b[0;34m=\u001b[0m\u001b[0mself\u001b[0m\u001b[0;34m.\u001b[0m\u001b[0m_input_tensors\u001b[0m\u001b[0;34m,\u001b[0m\u001b[0;34m\u001b[0m\u001b[0m\n\u001b[1;32m    452\u001b[0m           \u001b[0moutput_tensors\u001b[0m\u001b[0;34m=\u001b[0m\u001b[0mself\u001b[0m\u001b[0;34m.\u001b[0m\u001b[0m_output_tensors\u001b[0m\u001b[0;34m,\u001b[0m\u001b[0;34m\u001b[0m\u001b[0m\n\u001b[0;32m--> 453\u001b[0;31m           **converter_kwargs)\n\u001b[0m\u001b[1;32m    454\u001b[0m     \u001b[0;32melse\u001b[0m\u001b[0;34m:\u001b[0m\u001b[0;34m\u001b[0m\u001b[0m\n\u001b[1;32m    455\u001b[0m       \u001b[0;31m# Graphs without valid tensors cannot be loaded into tf.Session since they\u001b[0m\u001b[0;34m\u001b[0m\u001b[0;34m\u001b[0m\u001b[0m\n",
      "\u001b[0;32m/anaconda3/lib/python3.6/site-packages/tensorflow/contrib/lite/python/convert.py\u001b[0m in \u001b[0;36mtoco_convert_impl\u001b[0;34m(input_data, input_tensors, output_tensors, *args, **kwargs)\u001b[0m\n\u001b[1;32m    340\u001b[0m   data = toco_convert_protos(model_flags.SerializeToString(),\n\u001b[1;32m    341\u001b[0m                              \u001b[0mtoco_flags\u001b[0m\u001b[0;34m.\u001b[0m\u001b[0mSerializeToString\u001b[0m\u001b[0;34m(\u001b[0m\u001b[0;34m)\u001b[0m\u001b[0;34m,\u001b[0m\u001b[0;34m\u001b[0m\u001b[0m\n\u001b[0;32m--> 342\u001b[0;31m                              input_data.SerializeToString())\n\u001b[0m\u001b[1;32m    343\u001b[0m   \u001b[0;32mreturn\u001b[0m \u001b[0mdata\u001b[0m\u001b[0;34m\u001b[0m\u001b[0m\n\u001b[1;32m    344\u001b[0m \u001b[0;34m\u001b[0m\u001b[0m\n",
      "\u001b[0;32m/anaconda3/lib/python3.6/site-packages/tensorflow/contrib/lite/python/convert.py\u001b[0m in \u001b[0;36mtoco_convert_protos\u001b[0;34m(model_flags_str, toco_flags_str, input_data_str)\u001b[0m\n\u001b[1;32m    133\u001b[0m     \u001b[0;32melse\u001b[0m\u001b[0;34m:\u001b[0m\u001b[0;34m\u001b[0m\u001b[0m\n\u001b[1;32m    134\u001b[0m       raise RuntimeError(\"TOCO failed see console for info.\\n%s\\n%s\\n\" %\n\u001b[0;32m--> 135\u001b[0;31m                          (stdout, stderr))\n\u001b[0m\u001b[1;32m    136\u001b[0m \u001b[0;34m\u001b[0m\u001b[0m\n\u001b[1;32m    137\u001b[0m \u001b[0;34m\u001b[0m\u001b[0m\n",
      "\u001b[0;31mRuntimeError\u001b[0m: TOCO failed see console for info.\nb'2019-01-09 16:00:45.487000: I tensorflow/contrib/lite/toco/import_tensorflow.cc:1080] Converting unsupported operation: TensorArrayV3\\n2019-01-09 16:00:45.487416: I tensorflow/contrib/lite/toco/import_tensorflow.cc:1127] Op node missing output type attribute: gru/TensorArray\\n2019-01-09 16:00:45.487439: I tensorflow/contrib/lite/toco/import_tensorflow.cc:1080] Converting unsupported operation: TensorArrayV3\\n2019-01-09 16:00:45.487458: I tensorflow/contrib/lite/toco/import_tensorflow.cc:1127] Op node missing output type attribute: gru/TensorArray_1\\n2019-01-09 16:00:45.487528: I tensorflow/contrib/lite/toco/import_tensorflow.cc:1080] Converting unsupported operation: TensorArrayScatterV3\\n2019-01-09 16:00:45.487545: I tensorflow/contrib/lite/toco/import_tensorflow.cc:1127] Op node missing output type attribute: gru/TensorArrayUnstack/TensorArrayScatter/TensorArrayScatterV3\\n2019-01-09 16:00:45.487567: I tensorflow/contrib/lite/toco/import_tensorflow.cc:1080] Converting unsupported operation: Enter\\n2019-01-09 16:00:45.487591: I tensorflow/contrib/lite/toco/import_tensorflow.cc:1080] Converting unsupported operation: Enter\\n2019-01-09 16:00:45.487611: I tensorflow/contrib/lite/toco/import_tensorflow.cc:1080] Converting unsupported operation: Enter\\n2019-01-09 16:00:45.487630: I tensorflow/contrib/lite/toco/import_tensorflow.cc:1080] Converting unsupported operation: Enter\\n2019-01-09 16:00:45.487909: I tensorflow/contrib/lite/toco/import_tensorflow.cc:1080] Converting unsupported operation: Enter\\n2019-01-09 16:00:45.487943: I tensorflow/contrib/lite/toco/import_tensorflow.cc:1080] Converting unsupported operation: Enter\\n2019-01-09 16:00:45.487969: I tensorflow/contrib/lite/toco/import_tensorflow.cc:1080] Converting unsupported operation: LoopCond\\n2019-01-09 16:00:45.487979: I tensorflow/contrib/lite/toco/import_tensorflow.cc:1127] Op node missing output type attribute: gru/while/LoopCond\\n2019-01-09 16:00:45.488028: I tensorflow/contrib/lite/toco/import_tensorflow.cc:1080] Converting unsupported operation: TensorArrayReadV3\\n2019-01-09 16:00:45.488045: I tensorflow/contrib/lite/toco/import_tensorflow.cc:1080] Converting unsupported operation: Enter\\n2019-01-09 16:00:45.488059: I tensorflow/contrib/lite/toco/import_tensorflow.cc:189] Unsupported data type in placeholder op: 20\\n2019-01-09 16:00:45.488076: I tensorflow/contrib/lite/toco/import_tensorflow.cc:1080] Converting unsupported operation: Enter\\n2019-01-09 16:00:45.488092: I tensorflow/contrib/lite/toco/import_tensorflow.cc:1080] Converting unsupported operation: ReadVariableOp\\n2019-01-09 16:00:45.488106: I tensorflow/contrib/lite/toco/import_tensorflow.cc:1080] Converting unsupported operation: Enter\\n2019-01-09 16:00:45.488118: I tensorflow/contrib/lite/toco/import_tensorflow.cc:189] Unsupported data type in placeholder op: 20\\n2019-01-09 16:00:45.488165: I tensorflow/contrib/lite/toco/import_tensorflow.cc:1080] Converting unsupported operation: ReadVariableOp\\n2019-01-09 16:00:45.488213: I tensorflow/contrib/lite/toco/import_tensorflow.cc:1080] Converting unsupported operation: ReadVariableOp\\n2019-01-09 16:00:45.488256: I tensorflow/contrib/lite/toco/import_tensorflow.cc:1080] Converting unsupported operation: ReadVariableOp\\n2019-01-09 16:00:45.488270: I tensorflow/contrib/lite/toco/import_tensorflow.cc:1080] Converting unsupported operation: Enter\\n2019-01-09 16:00:45.488282: I tensorflow/contrib/lite/toco/import_tensorflow.cc:189] Unsupported data type in placeholder op: 20\\n2019-01-09 16:00:45.488325: I tensorflow/contrib/lite/toco/import_tensorflow.cc:1080] Converting unsupported operation: ReadVariableOp\\n2019-01-09 16:00:45.488364: I tensorflow/contrib/lite/toco/import_tensorflow.cc:1080] Converting unsupported operation: ReadVariableOp\\n2019-01-09 16:00:45.488407: I tensorflow/contrib/lite/toco/import_tensorflow.cc:1080] Converting unsupported operation: ReadVariableOp\\n2019-01-09 16:00:45.488422: I tensorflow/contrib/lite/toco/import_tensorflow.cc:1080] Converting unsupported operation: Enter\\n2019-01-09 16:00:45.488434: I tensorflow/contrib/lite/toco/import_tensorflow.cc:189] Unsupported data type in placeholder op: 20\\n2019-01-09 16:00:45.488472: I tensorflow/contrib/lite/toco/import_tensorflow.cc:1080] Converting unsupported operation: ReadVariableOp\\n2019-01-09 16:00:45.488575: I tensorflow/contrib/lite/toco/import_tensorflow.cc:1080] Converting unsupported operation: ReadVariableOp\\n2019-01-09 16:00:45.488640: I tensorflow/contrib/lite/toco/import_tensorflow.cc:1080] Converting unsupported operation: TensorArrayWriteV3\\n2019-01-09 16:00:45.488653: I tensorflow/contrib/lite/toco/import_tensorflow.cc:1127] Op node missing output type attribute: gru/while/TensorArrayWrite/TensorArrayWriteV3\\n2019-01-09 16:00:45.488667: I tensorflow/contrib/lite/toco/import_tensorflow.cc:1080] Converting unsupported operation: Enter\\n2019-01-09 16:00:45.488679: I tensorflow/contrib/lite/toco/import_tensorflow.cc:189] Unsupported data type in placeholder op: 20\\n2019-01-09 16:00:45.488709: I tensorflow/contrib/lite/toco/import_tensorflow.cc:1080] Converting unsupported operation: Exit\\n2019-01-09 16:00:45.488722: I tensorflow/contrib/lite/toco/import_tensorflow.cc:1080] Converting unsupported operation: Exit\\n2019-01-09 16:00:45.488740: I tensorflow/contrib/lite/toco/import_tensorflow.cc:1080] Converting unsupported operation: TensorArrayReadV3\\n2019-01-09 16:00:45.490391: I tensorflow/contrib/lite/toco/import_tensorflow.cc:1080] Converting unsupported operation: TensorArrayV3\\n2019-01-09 16:00:45.490413: I tensorflow/contrib/lite/toco/import_tensorflow.cc:1127] Op node missing output type attribute: gru_1/TensorArray\\n2019-01-09 16:00:45.490426: I tensorflow/contrib/lite/toco/import_tensorflow.cc:1080] Converting unsupported operation: TensorArrayV3\\n2019-01-09 16:00:45.490436: I tensorflow/contrib/lite/toco/import_tensorflow.cc:1127] Op node missing output type attribute: gru_1/TensorArray_1\\n2019-01-09 16:00:45.490482: I tensorflow/contrib/lite/toco/import_tensorflow.cc:1080] Converting unsupported operation: TensorArrayScatterV3\\n2019-01-09 16:00:45.490493: I tensorflow/contrib/lite/toco/import_tensorflow.cc:1127] Op node missing output type attribute: gru_1/TensorArrayUnstack/TensorArrayScatter/TensorArrayScatterV3\\n2019-01-09 16:00:45.490513: I tensorflow/contrib/lite/toco/import_tensorflow.cc:1080] Converting unsupported operation: Enter\\n2019-01-09 16:00:45.490525: I tensorflow/contrib/lite/toco/import_tensorflow.cc:1080] Converting unsupported operation: Enter\\n2019-01-09 16:00:45.490538: I tensorflow/contrib/lite/toco/import_tensorflow.cc:1080] Converting unsupported operation: Enter\\n2019-01-09 16:00:45.490550: I tensorflow/contrib/lite/toco/import_tensorflow.cc:1080] Converting unsupported operation: Enter\\n2019-01-09 16:00:45.490575: I tensorflow/contrib/lite/toco/import_tensorflow.cc:1080] Converting unsupported operation: Enter\\n2019-01-09 16:00:45.490589: I tensorflow/contrib/lite/toco/import_tensorflow.cc:1080] Converting unsupported operation: Enter\\n2019-01-09 16:00:45.490602: I tensorflow/contrib/lite/toco/import_tensorflow.cc:1080] Converting unsupported operation: LoopCond\\n2019-01-09 16:00:45.490609: I tensorflow/contrib/lite/toco/import_tensorflow.cc:1127] Op node missing output type attribute: gru_1/while/LoopCond\\n2019-01-09 16:00:45.490648: I tensorflow/contrib/lite/toco/import_tensorflow.cc:1080] Converting unsupported operation: TensorArrayReadV3\\n2019-01-09 16:00:45.490661: I tensorflow/contrib/lite/toco/import_tensorflow.cc:1080] Converting unsupported operation: Enter\\n2019-01-09 16:00:45.490669: I tensorflow/contrib/lite/toco/import_tensorflow.cc:189] Unsupported data type in placeholder op: 20\\n2019-01-09 16:00:45.490678: I tensorflow/contrib/lite/toco/import_tensorflow.cc:1080] Converting unsupported operation: Enter\\n2019-01-09 16:00:45.490690: I tensorflow/contrib/lite/toco/import_tensorflow.cc:1080] Converting unsupported operation: ReadVariableOp\\n2019-01-09 16:00:45.490702: I tensorflow/contrib/lite/toco/import_tensorflow.cc:1080] Converting unsupported operation: Enter\\n2019-01-09 16:00:45.490710: I tensorflow/contrib/lite/toco/import_tensorflow.cc:189] Unsupported data type in placeholder op: 20\\n2019-01-09 16:00:45.490746: I tensorflow/contrib/lite/toco/import_tensorflow.cc:1080] Converting unsupported operation: ReadVariableOp\\n2019-01-09 16:00:45.490784: I tensorflow/contrib/lite/toco/import_tensorflow.cc:1080] Converting unsupported operation: ReadVariableOp\\n2019-01-09 16:00:45.490822: I tensorflow/contrib/lite/toco/import_tensorflow.cc:1080] Converting unsupported operation: ReadVariableOp\\n2019-01-09 16:00:45.490832: I tensorflow/contrib/lite/toco/import_tensorflow.cc:1080] Converting unsupported operation: Enter\\n2019-01-09 16:00:45.490840: I tensorflow/contrib/lite/toco/import_tensorflow.cc:189] Unsupported data type in placeholder op: 20\\n2019-01-09 16:00:45.490875: I tensorflow/contrib/lite/toco/import_tensorflow.cc:1080] Converting unsupported operation: ReadVariableOp\\n2019-01-09 16:00:45.490914: I tensorflow/contrib/lite/toco/import_tensorflow.cc:1080] Converting unsupported operation: ReadVariableOp\\n2019-01-09 16:00:45.490949: I tensorflow/contrib/lite/toco/import_tensorflow.cc:1080] Converting unsupported operation: ReadVariableOp\\n2019-01-09 16:00:45.490960: I tensorflow/contrib/lite/toco/import_tensorflow.cc:1080] Converting unsupported operation: Enter\\n2019-01-09 16:00:45.490968: I tensorflow/contrib/lite/toco/import_tensorflow.cc:189] Unsupported data type in placeholder op: 20\\n2019-01-09 16:00:45.491002: I tensorflow/contrib/lite/toco/import_tensorflow.cc:1080] Converting unsupported operation: ReadVariableOp\\n2019-01-09 16:00:45.491088: I tensorflow/contrib/lite/toco/import_tensorflow.cc:1080] Converting unsupported operation: ReadVariableOp\\n2019-01-09 16:00:45.491143: I tensorflow/contrib/lite/toco/import_tensorflow.cc:1080] Converting unsupported operation: TensorArrayWriteV3\\n2019-01-09 16:00:45.491153: I tensorflow/contrib/lite/toco/import_tensorflow.cc:1127] Op node missing output type attribute: gru_1/while/TensorArrayWrite/TensorArrayWriteV3\\n2019-01-09 16:00:45.491163: I tensorflow/contrib/lite/toco/import_tensorflow.cc:1080] Converting unsupported operation: Enter\\n2019-01-09 16:00:45.491172: I tensorflow/contrib/lite/toco/import_tensorflow.cc:189] Unsupported data type in placeholder op: 20\\n2019-01-09 16:00:45.491196: I tensorflow/contrib/lite/toco/import_tensorflow.cc:1080] Converting unsupported operation: Exit\\n2019-01-09 16:00:45.491207: I tensorflow/contrib/lite/toco/import_tensorflow.cc:1080] Converting unsupported operation: TensorArraySizeV3\\n2019-01-09 16:00:45.491216: I tensorflow/contrib/lite/toco/import_tensorflow.cc:1127] Op node missing output type attribute: gru_1/TensorArrayStack/TensorArraySizeV3\\n2019-01-09 16:00:45.491240: I tensorflow/contrib/lite/toco/import_tensorflow.cc:1080] Converting unsupported operation: TensorArrayGatherV3\\n2019-01-09 16:00:45.496660: I tensorflow/contrib/lite/toco/graph_transformations/graph_transformations.cc:39] Before Removing unused ops: 196 operators, 343 arrays (0 quantized)\\n2019-01-09 16:00:45.500695: I tensorflow/contrib/lite/toco/graph_transformations/graph_transformations.cc:39] Before general graph transformations: 196 operators, 343 arrays (0 quantized)\\n2019-01-09 16:00:45.504493: I tensorflow/contrib/lite/toco/graph_transformations/graph_transformations.cc:39] After general graph transformations pass 1: 189 operators, 338 arrays (0 quantized)\\n2019-01-09 16:00:45.507552: I tensorflow/contrib/lite/toco/graph_transformations/graph_transformations.cc:39] After general graph transformations pass 2: 188 operators, 337 arrays (0 quantized)\\n2019-01-09 16:00:45.510149: I tensorflow/contrib/lite/toco/graph_transformations/graph_transformations.cc:39] After general graph transformations pass 3: 187 operators, 335 arrays (0 quantized)\\n2019-01-09 16:00:45.512738: I tensorflow/contrib/lite/toco/graph_transformations/graph_transformations.cc:39] Before dequantization graph transformations: 187 operators, 335 arrays (0 quantized)\\n2019-01-09 16:00:45.514622: F tensorflow/contrib/lite/toco/tooling_util.cc:618] Check failed: dim >= 1 (0 vs. 1)\\n'\nNone\n"
     ]
    }
   ],
   "source": [
    "#IGNORE THIS PART. Mobile conversion does not work.\n",
    "# converter = tf.contrib.lite.TFLiteConverter.from_keras_model_file(keras_file)\n",
    "# tflite_model = converter.convert()\n",
    "# open(\"bdmodel.tflite\", \"wb\").write(tflite_model)"
   ]
  },
  {
   "cell_type": "code",
   "execution_count": 31,
   "metadata": {},
   "outputs": [
    {
     "data": {
      "text/plain": [
       "'আচ্ছা'"
      ]
     },
     "execution_count": 31,
     "metadata": {},
     "output_type": "execute_result"
    }
   ],
   "source": [
    "getWordForVector(train_y[9:10])"
   ]
  },
  {
   "cell_type": "code",
   "execution_count": 51,
   "metadata": {},
   "outputs": [
    {
     "data": {
      "text/plain": [
       "'াাাাা'"
      ]
     },
     "execution_count": 51,
     "metadata": {},
     "output_type": "execute_result"
    }
   ],
   "source": [
    "getResultForOneWord(cpuModel, train_x[9:10])"
   ]
  },
  {
   "cell_type": "code",
   "execution_count": 63,
   "metadata": {},
   "outputs": [],
   "source": [
    "# Note that chars_c_to_i, banglish_word_max_length, total_one_hot_classes are defined above. \n",
    "# so, no need to anything for that\n",
    "# But make sure that previous statements were executed\n",
    "def getPrediction(model, word):\n",
    "    oneHotEncodedWord = wordToOneHotEncode(word, chars_c_to_i, banglish_word_max_length, total_one_hot_classes)\n",
    "    oneHotEncodedWord = oneHotEncodedWord.reshape((1,oneHotEncodedWord.shape[0],oneHotEncodedWord.shape[1]))\n",
    "    return getResultForOneWord(model, oneHotEncodedWord)"
   ]
  },
  {
   "cell_type": "code",
   "execution_count": 64,
   "metadata": {},
   "outputs": [
    {
     "data": {
      "text/plain": [
       "'াাাাা'"
      ]
     },
     "execution_count": 64,
     "metadata": {},
     "output_type": "execute_result"
    }
   ],
   "source": [
    "#Usage\n",
    "getPrediction(cpuModel, \"aacchaa\")"
   ]
  },
  {
   "cell_type": "code",
   "execution_count": null,
   "metadata": {},
   "outputs": [],
   "source": []
  }
 ],
 "metadata": {
  "kernelspec": {
   "display_name": "Python 3",
   "language": "python",
   "name": "python3"
  },
  "language_info": {
   "codemirror_mode": {
    "name": "ipython",
    "version": 3
   },
   "file_extension": ".py",
   "mimetype": "text/x-python",
   "name": "python",
   "nbconvert_exporter": "python",
   "pygments_lexer": "ipython3",
   "version": "3.6.4"
  }
 },
 "nbformat": 4,
 "nbformat_minor": 2
}
